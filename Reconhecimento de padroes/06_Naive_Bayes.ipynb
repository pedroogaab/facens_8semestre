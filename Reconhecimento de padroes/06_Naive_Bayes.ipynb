{
  "cells": [
    {
      "cell_type": "markdown",
      "metadata": {
        "id": "6e73g_DdcZVE"
      },
      "source": [
        "# Naive Bayes - Implementação"
      ]
    },
    {
      "cell_type": "code",
      "execution_count": 1,
      "metadata": {
        "colab": {
          "base_uri": "https://localhost:8080/"
        },
        "id": "MHpqbU94cZVI",
        "outputId": "866173b7-dffc-42ea-ee82-c8c0e86b2c24"
      },
      "outputs": [
        {
          "name": "stdout",
          "output_type": "stream",
          "text": [
            "(14, 5)\n"
          ]
        }
      ],
      "source": [
        "import pandas as pd\n",
        "\n",
        "df = pd.read_csv('data/golf.csv',sep='\\t')\n",
        "print(df.shape)"
      ]
    },
    {
      "cell_type": "code",
      "execution_count": 2,
      "metadata": {
        "colab": {
          "base_uri": "https://localhost:8080/",
          "height": 175
        },
        "id": "mHKjHtblcZVK",
        "outputId": "22b5171d-b0a3-45d1-8ff9-b949b2b7b895"
      },
      "outputs": [
        {
          "data": {
            "text/html": [
              "<div>\n",
              "<style scoped>\n",
              "    .dataframe tbody tr th:only-of-type {\n",
              "        vertical-align: middle;\n",
              "    }\n",
              "\n",
              "    .dataframe tbody tr th {\n",
              "        vertical-align: top;\n",
              "    }\n",
              "\n",
              "    .dataframe thead th {\n",
              "        text-align: right;\n",
              "    }\n",
              "</style>\n",
              "<table border=\"1\" class=\"dataframe\">\n",
              "  <thead>\n",
              "    <tr style=\"text-align: right;\">\n",
              "      <th></th>\n",
              "      <th>Clima</th>\n",
              "      <th>Temperatura</th>\n",
              "      <th>Umidade</th>\n",
              "      <th>Vento</th>\n",
              "      <th>Jogar Golf?</th>\n",
              "    </tr>\n",
              "  </thead>\n",
              "  <tbody>\n",
              "    <tr>\n",
              "      <th>count</th>\n",
              "      <td>14</td>\n",
              "      <td>14</td>\n",
              "      <td>14</td>\n",
              "      <td>14</td>\n",
              "      <td>14</td>\n",
              "    </tr>\n",
              "    <tr>\n",
              "      <th>unique</th>\n",
              "      <td>3</td>\n",
              "      <td>3</td>\n",
              "      <td>2</td>\n",
              "      <td>2</td>\n",
              "      <td>2</td>\n",
              "    </tr>\n",
              "    <tr>\n",
              "      <th>top</th>\n",
              "      <td>Chuvoso</td>\n",
              "      <td>Moderado</td>\n",
              "      <td>Alta</td>\n",
              "      <td>FALSO</td>\n",
              "      <td>Sim</td>\n",
              "    </tr>\n",
              "    <tr>\n",
              "      <th>freq</th>\n",
              "      <td>5</td>\n",
              "      <td>6</td>\n",
              "      <td>7</td>\n",
              "      <td>8</td>\n",
              "      <td>9</td>\n",
              "    </tr>\n",
              "  </tbody>\n",
              "</table>\n",
              "</div>"
            ],
            "text/plain": [
              "          Clima Temperatura Umidade  Vento Jogar Golf?\n",
              "count        14          14      14     14          14\n",
              "unique        3           3       2      2           2\n",
              "top     Chuvoso    Moderado    Alta  FALSO         Sim\n",
              "freq          5           6       7      8           9"
            ]
          },
          "execution_count": 2,
          "metadata": {},
          "output_type": "execute_result"
        }
      ],
      "source": [
        "df.describe()"
      ]
    },
    {
      "cell_type": "markdown",
      "metadata": {
        "id": "qggjCaXVcZVK"
      },
      "source": [
        "## Qual a probabilidade de jogar golf?"
      ]
    },
    {
      "cell_type": "code",
      "execution_count": 3,
      "metadata": {
        "colab": {
          "base_uri": "https://localhost:8080/"
        },
        "id": "5-snfdTvcZVL",
        "outputId": "646cb93c-6357-4383-ffe6-fbc4081acd49"
      },
      "outputs": [
        {
          "name": "stdout",
          "output_type": "stream",
          "text": [
            "Total de sim na coluna: 9\n",
            "Total de não na coluna: 5\n"
          ]
        }
      ],
      "source": [
        "df_sim = df[df['Jogar Golf?'] == 'Sim']\n",
        "df_nao = df[df['Jogar Golf?'] == 'Não']\n",
        "\n",
        "total_sim = len(df_sim)\n",
        "total_nao = len(df_nao)\n",
        "print(\"Total de sim na coluna:\", total_sim)\n",
        "print(\"Total de não na coluna:\", total_nao)"
      ]
    },
    {
      "cell_type": "markdown",
      "metadata": {
        "id": "VrRGM22vcZVL"
      },
      "source": [
        "## Encontrando a probabilidade dos valores para o atributo Clima"
      ]
    },
    {
      "cell_type": "code",
      "execution_count": 4,
      "metadata": {
        "colab": {
          "base_uri": "https://localhost:8080/"
        },
        "id": "BynwwtvIcZVM",
        "outputId": "761899bc-7436-4e70-abfc-087d69746052"
      },
      "outputs": [
        {
          "data": {
            "text/plain": [
              "array(['Chuvoso', 'Nublado', 'Ensolarado'], dtype=object)"
            ]
          },
          "execution_count": 4,
          "metadata": {},
          "output_type": "execute_result"
        }
      ],
      "source": [
        "# vamos armazenar as probabilidades para cada valor do clima referente à Jogar Golf = Sim\n",
        "clima = dict()\n",
        "\n",
        "# quais valores esse atributo pode assumir?\n",
        "df['Clima'].unique()"
      ]
    },
    {
      "cell_type": "code",
      "execution_count": 7,
      "metadata": {
        "colab": {
          "base_uri": "https://localhost:8080/"
        },
        "id": "1i1RKPv4cZVN",
        "outputId": "30f98761-0593-4349-c790-a1ede4677162"
      },
      "outputs": [
        {
          "name": "stdout",
          "output_type": "stream",
          "text": [
            "Chuvoso 2\n",
            "Nublado 4\n",
            "Ensolarado 3\n"
          ]
        }
      ],
      "source": [
        "valores = df['Clima'].unique()\n",
        "\n",
        "# pra cada valor, vamos ver quantas linhas tem com a classe sim\n",
        "\n",
        "for v in valores:\n",
        "    linhas = df[ (df['Clima'] == v) & (df['Jogar Golf?'] == 'Sim') ]\n",
        "    print(v, len(linhas))\n",
        "    # print(linhas)"
      ]
    },
    {
      "cell_type": "code",
      "execution_count": 8,
      "metadata": {
        "colab": {
          "base_uri": "https://localhost:8080/"
        },
        "id": "O_5owFh2cZVO",
        "outputId": "f963dae8-3f0e-4da0-d62c-64bb92ca789f"
      },
      "outputs": [
        {
          "name": "stdout",
          "output_type": "stream",
          "text": [
            "Chuvoso 0.2222222222222222\n",
            "Nublado 0.4444444444444444\n",
            "Ensolarado 0.3333333333333333\n"
          ]
        }
      ],
      "source": [
        "# para calcular a probabilidade, precisamos dividir essas quantidades pelo total de Jogar Golf? = Sim da base\n",
        "\n",
        "for v in valores:\n",
        "    linhas = df[ (df['Clima'] == v) & (df['Jogar Golf?'] == 'Sim') ]\n",
        "    print(v, len(linhas)/total_sim)\n"
      ]
    },
    {
      "cell_type": "code",
      "execution_count": 9,
      "metadata": {
        "colab": {
          "base_uri": "https://localhost:8080/"
        },
        "id": "2vYo45CvcZVP",
        "outputId": "df8d8533-4a60-48cb-d460-54d72fce0b70"
      },
      "outputs": [
        {
          "name": "stdout",
          "output_type": "stream",
          "text": [
            "Chuvoso 0.6\n",
            "Nublado 0.0\n",
            "Ensolarado 0.4\n"
          ]
        }
      ],
      "source": [
        "# vamos fazer isso para a classe Jogar Golf = Não agora\n",
        "\n",
        "for v in valores:\n",
        "    linhas = df[ (df['Clima'] == v) & (df['Jogar Golf?'] == 'Não') ]\n",
        "    print(v, len(linhas)/total_nao)"
      ]
    },
    {
      "cell_type": "code",
      "execution_count": 10,
      "metadata": {
        "colab": {
          "base_uri": "https://localhost:8080/"
        },
        "id": "n-YoyufAcZVP",
        "outputId": "81c11b06-f9bf-44cf-b9ec-e90c09a15e31"
      },
      "outputs": [
        {
          "name": "stdout",
          "output_type": "stream",
          "text": [
            "Chuvoso 0.6\n",
            "Nublado 0.001\n",
            "Ensolarado 0.4\n"
          ]
        }
      ],
      "source": [
        "# sempre que uma probabilidade estiver zerada, precisamos corrigir ela com uma pequena adição pra não dar erro de cálculo\n",
        "\n",
        "for v in valores:\n",
        "    linhas = df[ (df['Clima'] == v) & (df['Jogar Golf?'] == 'Não') ]\n",
        "    p = len(linhas)/total_nao\n",
        "    if p == 0.0:\n",
        "        p += 0.001\n",
        "    print(v, p)"
      ]
    },
    {
      "cell_type": "markdown",
      "metadata": {
        "id": "YIFEpyLCcZVP"
      },
      "source": [
        "## Calculando a probabilidade de cada atributo para cada classe"
      ]
    },
    {
      "cell_type": "code",
      "execution_count": 11,
      "metadata": {
        "colab": {
          "base_uri": "https://localhost:8080/"
        },
        "id": "OGNPA9rqcZVQ",
        "outputId": "2bd5f871-0dcf-4e43-e3db-51f487f4a7e9"
      },
      "outputs": [
        {
          "name": "stdout",
          "output_type": "stream",
          "text": [
            "['Clima', 'Temperatura', 'Umidade', 'Vento']\n"
          ]
        }
      ],
      "source": [
        "prob_sim = dict()\n",
        "prob_nao = dict()\n",
        "\n",
        "colunas = list(df.columns)\n",
        "colunas.remove('Jogar Golf?')\n",
        "print(colunas)"
      ]
    },
    {
      "cell_type": "code",
      "execution_count": 12,
      "metadata": {
        "id": "fuLnafFRcZVQ"
      },
      "outputs": [],
      "source": [
        "for c in colunas:\n",
        "    prob_sim[c] = dict()\n",
        "    prob_nao[c] = dict()\n",
        "\n",
        "    valores_possiveis = df[c]\n",
        "\n",
        "    valores = list(df_sim[c])\n",
        "    total = len(valores)\n",
        "    for v in set(valores_possiveis):\n",
        "        prob_sim[c][v] = valores.count(v) / total\n",
        "        if prob_sim[c][v] == 0:\n",
        "            prob_sim[c][v] = 0.0001\n",
        "\n",
        "    valores = list(df_nao[c])\n",
        "    total = len(valores)\n",
        "    for v in set(valores_possiveis):\n",
        "        prob_nao[c][v] = valores.count(v) / total\n",
        "        if prob_nao[c][v] == 0:\n",
        "            prob_nao[c][v] = 0.0001"
      ]
    },
    {
      "cell_type": "code",
      "execution_count": 13,
      "metadata": {
        "colab": {
          "base_uri": "https://localhost:8080/"
        },
        "id": "-kKt28wkcZVQ",
        "outputId": "af36f684-f0b0-42dc-92aa-2919a129b0a1"
      },
      "outputs": [
        {
          "data": {
            "text/plain": [
              "{'Chuvoso': 0.6, 'Ensolarado': 0.4, 'Nublado': 0.0001}"
            ]
          },
          "execution_count": 13,
          "metadata": {},
          "output_type": "execute_result"
        }
      ],
      "source": [
        "prob_nao['Clima'] # P(clima=chuvoso|JogarGolf=Não)"
      ]
    },
    {
      "cell_type": "markdown",
      "metadata": {
        "id": "9EgD2dv-cZVQ"
      },
      "source": [
        "## Classificar a amostra Clima = Chuvoso, Temperatura = Frio, Umidade = Alta e Vento = Verdadeiro"
      ]
    },
    {
      "cell_type": "code",
      "execution_count": 14,
      "metadata": {
        "id": "ExIvZusBcZVR"
      },
      "outputs": [],
      "source": [
        "nao = prob_nao['Clima']['Chuvoso'] * prob_nao['Temperatura']['Frio'] * prob_nao['Umidade']['Alta'] * prob_nao['Vento']['VERDADEIRO'] * (total_nao/total)\n",
        "sim = prob_sim['Clima']['Chuvoso'] * prob_sim['Temperatura']['Frio'] * prob_sim['Umidade']['Alta'] * prob_sim['Vento']['VERDADEIRO'] * (total_sim/total)"
      ]
    },
    {
      "cell_type": "code",
      "execution_count": 15,
      "metadata": {
        "colab": {
          "base_uri": "https://localhost:8080/"
        },
        "id": "ro2kBkw0cZVR",
        "outputId": "bd6a077c-6da7-469b-c50f-28d21fee400b"
      },
      "outputs": [
        {
          "name": "stdout",
          "output_type": "stream",
          "text": [
            "Probabilidade de que as pessoas não vão jogar golf.\n"
          ]
        }
      ],
      "source": [
        "if sim > nao:\n",
        "    print(\"Probabilidade de que as pessoas vão jogar golf.\")\n",
        "else:\n",
        "    print(\"Probabilidade de que as pessoas não vão jogar golf.\")\n",
        "    \n",
        "    "
      ]
    },
    {
      "cell_type": "code",
      "execution_count": 16,
      "metadata": {
        "colab": {
          "base_uri": "https://localhost:8080/"
        },
        "id": "wiKcSv9BcZVR",
        "outputId": "dcbd8a53-7379-4749-a244-61f0da81c05f"
      },
      "outputs": [
        {
          "name": "stdout",
          "output_type": "stream",
          "text": [
            "0.014814814814814814\n",
            "0.0576\n"
          ]
        }
      ],
      "source": [
        "print(sim)\n",
        "print(nao)"
      ]
    },
    {
      "cell_type": "code",
      "execution_count": 17,
      "metadata": {
        "colab": {
          "base_uri": "https://localhost:8080/"
        },
        "id": "Bx62uU1GcZVR",
        "outputId": "00a97d54-99f4-4553-84de-dd3e288ae7e7"
      },
      "outputs": [
        {
          "name": "stdout",
          "output_type": "stream",
          "text": [
            "{'Chuvoso': 0.2222222222222222, 'Ensolarado': 0.3333333333333333, 'Nublado': 0.4444444444444444}\n",
            "{'Chuvoso': 0.6, 'Ensolarado': 0.4, 'Nublado': 0.0001}\n"
          ]
        }
      ],
      "source": [
        "## E se eu levar em consideração apenas o clima?\n",
        "\n",
        "print(prob_sim['Clima'])\n",
        "print(prob_nao['Clima'])"
      ]
    },
    {
      "cell_type": "code",
      "execution_count": 16,
      "metadata": {
        "colab": {
          "base_uri": "https://localhost:8080/"
        },
        "id": "yH7-VKbzcZVR",
        "outputId": "0d8e9a7e-43c9-41b7-be99-73ecb26b04a8"
      },
      "outputs": [
        {
          "name": "stdout",
          "output_type": "stream",
          "text": [
            "{'Moderado': 0.4444444444444444, 'Quente': 0.2222222222222222, 'Frio': 0.3333333333333333}\n",
            "{'Moderado': 0.4, 'Quente': 0.4, 'Frio': 0.2}\n"
          ]
        }
      ],
      "source": [
        "## E se eu levar em consideração apenas a temperatura?\n",
        "\n",
        "print(prob_sim['Temperatura'])\n",
        "print(prob_nao['Temperatura'])"
      ]
    },
    {
      "cell_type": "code",
      "execution_count": 18,
      "metadata": {
        "colab": {
          "base_uri": "https://localhost:8080/"
        },
        "id": "ikei0hD8cZVR",
        "outputId": "ed1cd3b6-cb29-46c2-f3a0-068257131bc5"
      },
      "outputs": [
        {
          "name": "stdout",
          "output_type": "stream",
          "text": [
            "{'FALSO': 0.6666666666666666, 'VERDADEIRO': 0.3333333333333333}\n",
            "{'FALSO': 0.4, 'VERDADEIRO': 0.6}\n"
          ]
        }
      ],
      "source": [
        "## E se eu levar em consideração apenas o vento?\n",
        "\n",
        "print(prob_sim['Vento'])\n",
        "print(prob_nao['Vento'])"
      ]
    },
    {
      "cell_type": "markdown",
      "metadata": {
        "id": "A-lQuBOvfAeM"
      },
      "source": [
        "# **Classificação de Espécies de Íris com Naive Bayes**\n",
        "\n",
        "Objetivo:\n",
        "Neste exercício, você terá a oportunidade de aplicar o algoritmo Naive Bayes para construir um modelo de classificação capaz de categorizar diferentes espécies de íris com base em suas medidas. Este é um passo importante na jornada de aprendizado de máquina, onde você ganhará experiência prática na construção e avaliação de modelos de classificação.\n",
        "\n",
        "Passos do Exercício:\n",
        "\n",
        "**1. Aquisição de Dados:**\n",
        "\n",
        "Você receberá o conjunto de dados \"Iris dataset,\" que contém informações sobre as medidas das sépalas e pétalas de várias espécies de íris.\n",
        "Este conjunto de dados está prontamente disponível em bibliotecas de machine learning, como o scikit-learn, ou em repositórios online.\n",
        "\n",
        "**2. Exploração de Dados:**\n",
        "\n",
        "Comece explorando o conjunto de dados para compreender suas características. Verifique as colunas disponíveis, os tipos de medidas e o número de amostras em cada classe.\n",
        "Isso ajudará você a ganhar insights iniciais sobre o problema que está sendo abordado.\n",
        "\n",
        "**3. Pré-processamento de Dados:**\n",
        "\n",
        "Realize o pré-processamento dos dados, que pode incluir a divisão dos dados em conjuntos de treinamento e teste, normalização ou padronização de recursos (se necessário) e qualquer limpeza de dados relevante.\n",
        "\n",
        "**4. Treinamento do Modelo Naive Bayes:**\n",
        "\n",
        "Aprenda como o algoritmo Naive Bayes funciona e como ele pode ser aplicado à classificação de dados numéricos.\n",
        "Treine um modelo Naive Bayes usando os dados de treinamento que você pré-processou anteriormente.\n",
        "\n",
        "**5. Avaliação do Modelo:**\n",
        "\n",
        "Avalie o desempenho do modelo usando métricas de classificação, como precisão, recall, F1-score e matriz de confusão.\n",
        "Compreenda como essas métricas refletem a capacidade do modelo de fazer previsões precisas.\n",
        "\n",
        "**6. Tuning de Hiperparâmetros:**\n",
        "\n",
        "Experimente diferentes configurações de hiperparâmetros do modelo Naive Bayes, como o tipo de distribuição (Gaussiana, Bernoulli, Multinomial), e observe como isso afeta o desempenho.\n",
        "Isso ajudará você a ajustar o modelo para obter os melhores resultados.\n",
        "\n",
        "**7. Comparação de Modelos:**\n",
        "\n",
        "Compare o desempenho do Naive Bayes com outros algoritmos de classificação, como KNN.\n",
        "Compreenda as forças e fraquezas de cada abordagem.\n",
        "\n",
        "\n",
        "\n",
        "Este exercício prático é uma oportunidade valiosa para aplicar o algoritmo Naive Bayes a dados numéricos reais e desenvolver suas habilidades em aprendizado de máquina."
      ]
    },
    {
      "cell_type": "code",
      "execution_count": 21,
      "metadata": {
        "id": "YvX4myhGlBZD"
      },
      "outputs": [
        {
          "name": "stdout",
          "output_type": "stream",
          "text": [
            "<class 'pandas.core.frame.DataFrame'>\n",
            "RangeIndex: 150 entries, 0 to 149\n",
            "Data columns (total 5 columns):\n",
            " #   Column              Non-Null Count  Dtype  \n",
            "---  ------              --------------  -----  \n",
            " 0   comprimento_sepala  150 non-null    float64\n",
            " 1   largura_sepala      150 non-null    float64\n",
            " 2   comprimento_petala  150 non-null    float64\n",
            " 3   largura_petala      150 non-null    float64\n",
            " 4   classe              150 non-null    object \n",
            "dtypes: float64(4), object(1)\n",
            "memory usage: 6.0+ KB\n"
          ]
        }
      ],
      "source": [
        "import pandas\n",
        "import sklearn\n",
        "\n",
        "df = pd.read_csv(\"data/iris.csv\")\n",
        "\n",
        "df.info()\n"
      ]
    },
    {
      "cell_type": "code",
      "execution_count": 23,
      "metadata": {},
      "outputs": [
        {
          "data": {
            "text/plain": [
              "array(['Iris-setosa', 'Iris-versicolor', 'Iris-virginica'], dtype=object)"
            ]
          },
          "execution_count": 23,
          "metadata": {},
          "output_type": "execute_result"
        }
      ],
      "source": [
        "df['classe'].unique()"
      ]
    },
    {
      "cell_type": "code",
      "execution_count": 36,
      "metadata": {},
      "outputs": [
        {
          "name": "stdout",
          "output_type": "stream",
          "text": [
            "876.5 458.1 563.8 458.1\n",
            "\n",
            "50\n",
            "50\n",
            "50\n"
          ]
        }
      ],
      "source": [
        "iris_setosa = {\"comprimentoSepala\":[],\"larguraSepala\":[],\"comprimentoPetala\":[],\"larguraPetala\":[]}\n",
        "iris_versicolor = {\"comprimentoSepala\":[],\"larguraSepala\":[],\"comprimentoPetala\":[],\"larguraPetala\":[]}\n",
        "iris_virginica = {\"comprimentoSepala\":[],\"larguraSepala\":[],\"comprimentoPetala\":[],\"larguraPetala\":[]}\n",
        "\n",
        "\n",
        "for clss, compSep, largSep, compPta, largPta in zip(df['classe'], df['comprimento_sepala'], df['largura_sepala'], df['comprimento_petala'], df['largura_petala']):\n",
        "    if clss == \"Iris-setosa\":\n",
        "        iris_setosa[\"comprimentoSepala\"].append(compSep)\n",
        "        iris_setosa[\"larguraSepala\"].append(largSep)\n",
        "        iris_setosa[\"comprimentoPetala\"].append(compPta)\n",
        "        iris_setosa[\"larguraPetala\"].append(largPta)\n",
        "    \n",
        "    \n",
        "    elif clss == \"Iris-versicolor\":\n",
        "        iris_versicolor[\"comprimentoSepala\"].append(compSep)\n",
        "        iris_versicolor[\"larguraSepala\"].append(largSep)\n",
        "        iris_versicolor[\"comprimentoPetala\"].append(compPta)\n",
        "        iris_versicolor[\"larguraPetala\"].append(largPta)\n",
        "        \n",
        "    else:\n",
        "        iris_virginica[\"comprimentoSepala\"].append(compSep)\n",
        "        iris_virginica[\"larguraSepala\"].append(largSep)\n",
        "        iris_virginica[\"comprimentoPetala\"].append(compPta)\n",
        "        iris_virginica[\"larguraPetala\"].append(largPta)\n",
        "        \n",
        "\n",
        "compSepala = df['comprimento_sepala'].sum()\n",
        "largSepala = df['largura_sepala'].sum()\n",
        "compPetala = df['comprimento_petala'].sum()\n",
        "largPetala = df['largura_sepala'].sum()\n",
        "print(compSepala, largSepala, compPetala, largPetala)\n",
        "print()\n",
        "print(len(iris_setosa[\"comprimentoPetala\"]))\n",
        "print(len(iris_versicolor[\"comprimentoPetala\"]))\n",
        "print(len(iris_virginica[\"comprimentoPetala\"]))"
      ]
    },
    {
      "cell_type": "code",
      "execution_count": 40,
      "metadata": {},
      "outputs": [
        {
          "name": "stdout",
          "output_type": "stream",
          "text": [
            "0.2\n",
            "0.2\n",
            "0.2\n",
            "0.2\n",
            "0.2\n",
            "0.4\n",
            "0.3\n",
            "0.2\n",
            "0.2\n",
            "0.1\n",
            "0.2\n",
            "0.2\n",
            "0.1\n",
            "0.1\n",
            "0.2\n",
            "0.4\n",
            "0.4\n",
            "0.3\n",
            "0.3\n",
            "0.3\n",
            "0.2\n",
            "0.4\n",
            "0.2\n",
            "0.5\n",
            "0.2\n",
            "0.2\n",
            "0.4\n",
            "0.2\n",
            "0.2\n",
            "0.2\n",
            "0.2\n",
            "0.4\n",
            "0.1\n",
            "0.2\n",
            "0.1\n",
            "0.2\n",
            "0.2\n",
            "0.1\n",
            "0.2\n",
            "0.2\n",
            "0.3\n",
            "0.3\n",
            "0.2\n",
            "0.6\n",
            "0.4\n",
            "0.3\n",
            "0.2\n",
            "0.2\n",
            "0.2\n",
            "0.2\n",
            "12.199999999999996\n"
          ]
        },
        {
          "ename": "AttributeError",
          "evalue": "'list' object has no attribute 'sum'",
          "output_type": "error",
          "traceback": [
            "\u001b[1;31m---------------------------------------------------------------------------\u001b[0m",
            "\u001b[1;31mAttributeError\u001b[0m                            Traceback (most recent call last)",
            "Cell \u001b[1;32mIn[40], line 8\u001b[0m\n\u001b[0;32m      5\u001b[0m     val \u001b[38;5;241m+\u001b[39m\u001b[38;5;241m=\u001b[39m c\n\u001b[0;32m      7\u001b[0m \u001b[38;5;28mprint\u001b[39m(val)\n\u001b[1;32m----> 8\u001b[0m setosaLargPt \u001b[38;5;241m=\u001b[39m \u001b[43miris_setosa\u001b[49m\u001b[43m[\u001b[49m\u001b[38;5;124;43m'\u001b[39;49m\u001b[38;5;124;43mlarguraPetala\u001b[39;49m\u001b[38;5;124;43m'\u001b[39;49m\u001b[43m]\u001b[49m\u001b[38;5;241;43m.\u001b[39;49m\u001b[43msum\u001b[49m()\u001b[38;5;241m/\u001b[39m\u001b[38;5;241m150\u001b[39m\n\u001b[0;32m      9\u001b[0m setosaLargSep \u001b[38;5;241m=\u001b[39m iris_setosa[\u001b[38;5;124m'\u001b[39m\u001b[38;5;124mlarguraSepala\u001b[39m\u001b[38;5;124m'\u001b[39m]\u001b[38;5;241m.\u001b[39msum()\u001b[38;5;241m/\u001b[39m\u001b[38;5;241m150\u001b[39m\n\u001b[0;32m     10\u001b[0m setosaCompPt \u001b[38;5;241m=\u001b[39m iris_setosa[\u001b[38;5;124m'\u001b[39m\u001b[38;5;124mcomprimentoPetala\u001b[39m\u001b[38;5;124m'\u001b[39m]\u001b[38;5;241m.\u001b[39msum()\u001b[38;5;241m/\u001b[39m\u001b[38;5;241m150\u001b[39m\n",
            "\u001b[1;31mAttributeError\u001b[0m: 'list' object has no attribute 'sum'"
          ]
        }
      ],
      "source": [
        "# setosa\n",
        "val = 0\n",
        "for c in iris_setosa['larguraPetala']:\n",
        "    val += c\n",
        "    \n",
        "print(val)\n",
        "setosaLargPt = iris_setosa['larguraPetala'].sum()/150\n",
        "setosaLargSep = iris_setosa['larguraSepala'].sum()/150\n",
        "setosaCompPt = iris_setosa['comprimentoPetala'].sum()/150\n",
        "setosaCompSep = iris_setosa['comprimentoSepala'].sum()/150\n",
        "\n",
        "\n",
        "print(setosaLargPt, setosaLargSep, setosaCompPt, setosaCompSep)"
      ]
    },
    {
      "cell_type": "markdown",
      "metadata": {
        "id": "nAu5hLVpstAy"
      },
      "source": [
        "#Extra\n"
      ]
    },
    {
      "cell_type": "markdown",
      "metadata": {
        "id": "-ruB8DMos-NM"
      },
      "source": [
        "Procure utilizar o Naive Bayes nos seguintes dataset\n",
        "\n",
        "* Conjunto de Dados de Diabetes (Pima Indians Diabetes Database)\n",
        "* Conjunto de Dados de Câncer de Mama\n",
        "* Conjunto de Dados de Vinhos (Wine Data)\n",
        "* Conjunto de Dados de Qualidade do Vinho (Wine Quality Data)\n"
      ]
    },
    {
      "cell_type": "code",
      "execution_count": null,
      "metadata": {
        "id": "HAM9Jp5dsvIK"
      },
      "outputs": [],
      "source": []
    }
  ],
  "metadata": {
    "colab": {
      "provenance": []
    },
    "kernelspec": {
      "display_name": "Python 3",
      "language": "python",
      "name": "python3"
    },
    "language_info": {
      "codemirror_mode": {
        "name": "ipython",
        "version": 3
      },
      "file_extension": ".py",
      "mimetype": "text/x-python",
      "name": "python",
      "nbconvert_exporter": "python",
      "pygments_lexer": "ipython3",
      "version": "3.11.9"
    }
  },
  "nbformat": 4,
  "nbformat_minor": 0
}
