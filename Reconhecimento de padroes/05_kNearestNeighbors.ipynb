{
  "cells": [
    {
      "cell_type": "markdown",
      "metadata": {
        "id": "-ar1Z3FE-Ksh"
      },
      "source": [
        "## Aula 05 - K-Nearest Neighbors\n",
        "\n",
        "---\n",
        "\n",
        "Vamos iniciar carregando os dados, embaralhando as amostras, e separando 100 amostras para teste e 50 amostras para treino,"
      ]
    },
    {
      "cell_type": "code",
      "execution_count": 36,
      "metadata": {
        "id": "MZjrBSGw-Ksj"
      },
      "outputs": [],
      "source": [
        "import numpy as np\n",
        "import pandas as pd\n",
        "\n",
        "df_dataset = pd.read_csv('iris.csv', sep=',', index_col=None)"
      ]
    },
    {
      "cell_type": "code",
      "execution_count": 37,
      "metadata": {
        "id": "-KZVFQri-Ksl",
        "colab": {
          "base_uri": "https://localhost:8080/",
          "height": 206
        },
        "outputId": "28bbc6fd-401b-4a40-ee6c-cd08d03b927b"
      },
      "outputs": [
        {
          "output_type": "execute_result",
          "data": {
            "text/plain": [
              "   comprimento_sepala  largura_sepala  comprimento_petala  largura_petala  \\\n",
              "0                 5.1             3.5                 1.4             0.2   \n",
              "1                 4.9             3.0                 1.4             0.2   \n",
              "2                 4.7             3.2                 1.3             0.2   \n",
              "3                 4.6             3.1                 1.5             0.2   \n",
              "4                 5.0             3.6                 1.4             0.2   \n",
              "\n",
              "        classe  \n",
              "0  Iris-setosa  \n",
              "1  Iris-setosa  \n",
              "2  Iris-setosa  \n",
              "3  Iris-setosa  \n",
              "4  Iris-setosa  "
            ],
            "text/html": [
              "\n",
              "  <div id=\"df-e8f9f2d8-111e-435b-a035-33733d0d756a\" class=\"colab-df-container\">\n",
              "    <div>\n",
              "<style scoped>\n",
              "    .dataframe tbody tr th:only-of-type {\n",
              "        vertical-align: middle;\n",
              "    }\n",
              "\n",
              "    .dataframe tbody tr th {\n",
              "        vertical-align: top;\n",
              "    }\n",
              "\n",
              "    .dataframe thead th {\n",
              "        text-align: right;\n",
              "    }\n",
              "</style>\n",
              "<table border=\"1\" class=\"dataframe\">\n",
              "  <thead>\n",
              "    <tr style=\"text-align: right;\">\n",
              "      <th></th>\n",
              "      <th>comprimento_sepala</th>\n",
              "      <th>largura_sepala</th>\n",
              "      <th>comprimento_petala</th>\n",
              "      <th>largura_petala</th>\n",
              "      <th>classe</th>\n",
              "    </tr>\n",
              "  </thead>\n",
              "  <tbody>\n",
              "    <tr>\n",
              "      <th>0</th>\n",
              "      <td>5.1</td>\n",
              "      <td>3.5</td>\n",
              "      <td>1.4</td>\n",
              "      <td>0.2</td>\n",
              "      <td>Iris-setosa</td>\n",
              "    </tr>\n",
              "    <tr>\n",
              "      <th>1</th>\n",
              "      <td>4.9</td>\n",
              "      <td>3.0</td>\n",
              "      <td>1.4</td>\n",
              "      <td>0.2</td>\n",
              "      <td>Iris-setosa</td>\n",
              "    </tr>\n",
              "    <tr>\n",
              "      <th>2</th>\n",
              "      <td>4.7</td>\n",
              "      <td>3.2</td>\n",
              "      <td>1.3</td>\n",
              "      <td>0.2</td>\n",
              "      <td>Iris-setosa</td>\n",
              "    </tr>\n",
              "    <tr>\n",
              "      <th>3</th>\n",
              "      <td>4.6</td>\n",
              "      <td>3.1</td>\n",
              "      <td>1.5</td>\n",
              "      <td>0.2</td>\n",
              "      <td>Iris-setosa</td>\n",
              "    </tr>\n",
              "    <tr>\n",
              "      <th>4</th>\n",
              "      <td>5.0</td>\n",
              "      <td>3.6</td>\n",
              "      <td>1.4</td>\n",
              "      <td>0.2</td>\n",
              "      <td>Iris-setosa</td>\n",
              "    </tr>\n",
              "  </tbody>\n",
              "</table>\n",
              "</div>\n",
              "    <div class=\"colab-df-buttons\">\n",
              "\n",
              "  <div class=\"colab-df-container\">\n",
              "    <button class=\"colab-df-convert\" onclick=\"convertToInteractive('df-e8f9f2d8-111e-435b-a035-33733d0d756a')\"\n",
              "            title=\"Convert this dataframe to an interactive table.\"\n",
              "            style=\"display:none;\">\n",
              "\n",
              "  <svg xmlns=\"http://www.w3.org/2000/svg\" height=\"24px\" viewBox=\"0 -960 960 960\">\n",
              "    <path d=\"M120-120v-720h720v720H120Zm60-500h600v-160H180v160Zm220 220h160v-160H400v160Zm0 220h160v-160H400v160ZM180-400h160v-160H180v160Zm440 0h160v-160H620v160ZM180-180h160v-160H180v160Zm440 0h160v-160H620v160Z\"/>\n",
              "  </svg>\n",
              "    </button>\n",
              "\n",
              "  <style>\n",
              "    .colab-df-container {\n",
              "      display:flex;\n",
              "      gap: 12px;\n",
              "    }\n",
              "\n",
              "    .colab-df-convert {\n",
              "      background-color: #E8F0FE;\n",
              "      border: none;\n",
              "      border-radius: 50%;\n",
              "      cursor: pointer;\n",
              "      display: none;\n",
              "      fill: #1967D2;\n",
              "      height: 32px;\n",
              "      padding: 0 0 0 0;\n",
              "      width: 32px;\n",
              "    }\n",
              "\n",
              "    .colab-df-convert:hover {\n",
              "      background-color: #E2EBFA;\n",
              "      box-shadow: 0px 1px 2px rgba(60, 64, 67, 0.3), 0px 1px 3px 1px rgba(60, 64, 67, 0.15);\n",
              "      fill: #174EA6;\n",
              "    }\n",
              "\n",
              "    .colab-df-buttons div {\n",
              "      margin-bottom: 4px;\n",
              "    }\n",
              "\n",
              "    [theme=dark] .colab-df-convert {\n",
              "      background-color: #3B4455;\n",
              "      fill: #D2E3FC;\n",
              "    }\n",
              "\n",
              "    [theme=dark] .colab-df-convert:hover {\n",
              "      background-color: #434B5C;\n",
              "      box-shadow: 0px 1px 3px 1px rgba(0, 0, 0, 0.15);\n",
              "      filter: drop-shadow(0px 1px 2px rgba(0, 0, 0, 0.3));\n",
              "      fill: #FFFFFF;\n",
              "    }\n",
              "  </style>\n",
              "\n",
              "    <script>\n",
              "      const buttonEl =\n",
              "        document.querySelector('#df-e8f9f2d8-111e-435b-a035-33733d0d756a button.colab-df-convert');\n",
              "      buttonEl.style.display =\n",
              "        google.colab.kernel.accessAllowed ? 'block' : 'none';\n",
              "\n",
              "      async function convertToInteractive(key) {\n",
              "        const element = document.querySelector('#df-e8f9f2d8-111e-435b-a035-33733d0d756a');\n",
              "        const dataTable =\n",
              "          await google.colab.kernel.invokeFunction('convertToInteractive',\n",
              "                                                    [key], {});\n",
              "        if (!dataTable) return;\n",
              "\n",
              "        const docLinkHtml = 'Like what you see? Visit the ' +\n",
              "          '<a target=\"_blank\" href=https://colab.research.google.com/notebooks/data_table.ipynb>data table notebook</a>'\n",
              "          + ' to learn more about interactive tables.';\n",
              "        element.innerHTML = '';\n",
              "        dataTable['output_type'] = 'display_data';\n",
              "        await google.colab.output.renderOutput(dataTable, element);\n",
              "        const docLink = document.createElement('div');\n",
              "        docLink.innerHTML = docLinkHtml;\n",
              "        element.appendChild(docLink);\n",
              "      }\n",
              "    </script>\n",
              "  </div>\n",
              "\n",
              "\n",
              "<div id=\"df-a48da010-c7e3-4d84-abea-6e2e3c8008f2\">\n",
              "  <button class=\"colab-df-quickchart\" onclick=\"quickchart('df-a48da010-c7e3-4d84-abea-6e2e3c8008f2')\"\n",
              "            title=\"Suggest charts.\"\n",
              "            style=\"display:none;\">\n",
              "\n",
              "<svg xmlns=\"http://www.w3.org/2000/svg\" height=\"24px\"viewBox=\"0 0 24 24\"\n",
              "     width=\"24px\">\n",
              "    <g>\n",
              "        <path d=\"M19 3H5c-1.1 0-2 .9-2 2v14c0 1.1.9 2 2 2h14c1.1 0 2-.9 2-2V5c0-1.1-.9-2-2-2zM9 17H7v-7h2v7zm4 0h-2V7h2v10zm4 0h-2v-4h2v4z\"/>\n",
              "    </g>\n",
              "</svg>\n",
              "  </button>\n",
              "\n",
              "<style>\n",
              "  .colab-df-quickchart {\n",
              "      --bg-color: #E8F0FE;\n",
              "      --fill-color: #1967D2;\n",
              "      --hover-bg-color: #E2EBFA;\n",
              "      --hover-fill-color: #174EA6;\n",
              "      --disabled-fill-color: #AAA;\n",
              "      --disabled-bg-color: #DDD;\n",
              "  }\n",
              "\n",
              "  [theme=dark] .colab-df-quickchart {\n",
              "      --bg-color: #3B4455;\n",
              "      --fill-color: #D2E3FC;\n",
              "      --hover-bg-color: #434B5C;\n",
              "      --hover-fill-color: #FFFFFF;\n",
              "      --disabled-bg-color: #3B4455;\n",
              "      --disabled-fill-color: #666;\n",
              "  }\n",
              "\n",
              "  .colab-df-quickchart {\n",
              "    background-color: var(--bg-color);\n",
              "    border: none;\n",
              "    border-radius: 50%;\n",
              "    cursor: pointer;\n",
              "    display: none;\n",
              "    fill: var(--fill-color);\n",
              "    height: 32px;\n",
              "    padding: 0;\n",
              "    width: 32px;\n",
              "  }\n",
              "\n",
              "  .colab-df-quickchart:hover {\n",
              "    background-color: var(--hover-bg-color);\n",
              "    box-shadow: 0 1px 2px rgba(60, 64, 67, 0.3), 0 1px 3px 1px rgba(60, 64, 67, 0.15);\n",
              "    fill: var(--button-hover-fill-color);\n",
              "  }\n",
              "\n",
              "  .colab-df-quickchart-complete:disabled,\n",
              "  .colab-df-quickchart-complete:disabled:hover {\n",
              "    background-color: var(--disabled-bg-color);\n",
              "    fill: var(--disabled-fill-color);\n",
              "    box-shadow: none;\n",
              "  }\n",
              "\n",
              "  .colab-df-spinner {\n",
              "    border: 2px solid var(--fill-color);\n",
              "    border-color: transparent;\n",
              "    border-bottom-color: var(--fill-color);\n",
              "    animation:\n",
              "      spin 1s steps(1) infinite;\n",
              "  }\n",
              "\n",
              "  @keyframes spin {\n",
              "    0% {\n",
              "      border-color: transparent;\n",
              "      border-bottom-color: var(--fill-color);\n",
              "      border-left-color: var(--fill-color);\n",
              "    }\n",
              "    20% {\n",
              "      border-color: transparent;\n",
              "      border-left-color: var(--fill-color);\n",
              "      border-top-color: var(--fill-color);\n",
              "    }\n",
              "    30% {\n",
              "      border-color: transparent;\n",
              "      border-left-color: var(--fill-color);\n",
              "      border-top-color: var(--fill-color);\n",
              "      border-right-color: var(--fill-color);\n",
              "    }\n",
              "    40% {\n",
              "      border-color: transparent;\n",
              "      border-right-color: var(--fill-color);\n",
              "      border-top-color: var(--fill-color);\n",
              "    }\n",
              "    60% {\n",
              "      border-color: transparent;\n",
              "      border-right-color: var(--fill-color);\n",
              "    }\n",
              "    80% {\n",
              "      border-color: transparent;\n",
              "      border-right-color: var(--fill-color);\n",
              "      border-bottom-color: var(--fill-color);\n",
              "    }\n",
              "    90% {\n",
              "      border-color: transparent;\n",
              "      border-bottom-color: var(--fill-color);\n",
              "    }\n",
              "  }\n",
              "</style>\n",
              "\n",
              "  <script>\n",
              "    async function quickchart(key) {\n",
              "      const quickchartButtonEl =\n",
              "        document.querySelector('#' + key + ' button');\n",
              "      quickchartButtonEl.disabled = true;  // To prevent multiple clicks.\n",
              "      quickchartButtonEl.classList.add('colab-df-spinner');\n",
              "      try {\n",
              "        const charts = await google.colab.kernel.invokeFunction(\n",
              "            'suggestCharts', [key], {});\n",
              "      } catch (error) {\n",
              "        console.error('Error during call to suggestCharts:', error);\n",
              "      }\n",
              "      quickchartButtonEl.classList.remove('colab-df-spinner');\n",
              "      quickchartButtonEl.classList.add('colab-df-quickchart-complete');\n",
              "    }\n",
              "    (() => {\n",
              "      let quickchartButtonEl =\n",
              "        document.querySelector('#df-a48da010-c7e3-4d84-abea-6e2e3c8008f2 button');\n",
              "      quickchartButtonEl.style.display =\n",
              "        google.colab.kernel.accessAllowed ? 'block' : 'none';\n",
              "    })();\n",
              "  </script>\n",
              "</div>\n",
              "    </div>\n",
              "  </div>\n"
            ]
          },
          "metadata": {},
          "execution_count": 37
        }
      ],
      "source": [
        "df_dataset.head()"
      ]
    },
    {
      "cell_type": "code",
      "execution_count": 38,
      "metadata": {
        "id": "WhcWzCqk-Ksl"
      },
      "outputs": [],
      "source": [
        "from sklearn.utils import shuffle\n",
        "df_dataset = shuffle(df_dataset, random_state=42)"
      ]
    },
    {
      "cell_type": "code",
      "execution_count": 39,
      "metadata": {
        "id": "_pkl8wxN-Ksl",
        "colab": {
          "base_uri": "https://localhost:8080/",
          "height": 206
        },
        "outputId": "73ac3ac4-e103-46b8-dffe-77fb7ba8d724"
      },
      "outputs": [
        {
          "output_type": "execute_result",
          "data": {
            "text/plain": [
              "     comprimento_sepala  largura_sepala  comprimento_petala  largura_petala  \\\n",
              "73                  6.1             2.8                 4.7             1.2   \n",
              "18                  5.7             3.8                 1.7             0.3   \n",
              "118                 7.7             2.6                 6.9             2.3   \n",
              "78                  6.0             2.9                 4.5             1.5   \n",
              "76                  6.8             2.8                 4.8             1.4   \n",
              "\n",
              "              classe  \n",
              "73   Iris-versicolor  \n",
              "18       Iris-setosa  \n",
              "118   Iris-virginica  \n",
              "78   Iris-versicolor  \n",
              "76   Iris-versicolor  "
            ],
            "text/html": [
              "\n",
              "  <div id=\"df-a60937ea-1a42-4030-844a-ac95a3e5c4d0\" class=\"colab-df-container\">\n",
              "    <div>\n",
              "<style scoped>\n",
              "    .dataframe tbody tr th:only-of-type {\n",
              "        vertical-align: middle;\n",
              "    }\n",
              "\n",
              "    .dataframe tbody tr th {\n",
              "        vertical-align: top;\n",
              "    }\n",
              "\n",
              "    .dataframe thead th {\n",
              "        text-align: right;\n",
              "    }\n",
              "</style>\n",
              "<table border=\"1\" class=\"dataframe\">\n",
              "  <thead>\n",
              "    <tr style=\"text-align: right;\">\n",
              "      <th></th>\n",
              "      <th>comprimento_sepala</th>\n",
              "      <th>largura_sepala</th>\n",
              "      <th>comprimento_petala</th>\n",
              "      <th>largura_petala</th>\n",
              "      <th>classe</th>\n",
              "    </tr>\n",
              "  </thead>\n",
              "  <tbody>\n",
              "    <tr>\n",
              "      <th>73</th>\n",
              "      <td>6.1</td>\n",
              "      <td>2.8</td>\n",
              "      <td>4.7</td>\n",
              "      <td>1.2</td>\n",
              "      <td>Iris-versicolor</td>\n",
              "    </tr>\n",
              "    <tr>\n",
              "      <th>18</th>\n",
              "      <td>5.7</td>\n",
              "      <td>3.8</td>\n",
              "      <td>1.7</td>\n",
              "      <td>0.3</td>\n",
              "      <td>Iris-setosa</td>\n",
              "    </tr>\n",
              "    <tr>\n",
              "      <th>118</th>\n",
              "      <td>7.7</td>\n",
              "      <td>2.6</td>\n",
              "      <td>6.9</td>\n",
              "      <td>2.3</td>\n",
              "      <td>Iris-virginica</td>\n",
              "    </tr>\n",
              "    <tr>\n",
              "      <th>78</th>\n",
              "      <td>6.0</td>\n",
              "      <td>2.9</td>\n",
              "      <td>4.5</td>\n",
              "      <td>1.5</td>\n",
              "      <td>Iris-versicolor</td>\n",
              "    </tr>\n",
              "    <tr>\n",
              "      <th>76</th>\n",
              "      <td>6.8</td>\n",
              "      <td>2.8</td>\n",
              "      <td>4.8</td>\n",
              "      <td>1.4</td>\n",
              "      <td>Iris-versicolor</td>\n",
              "    </tr>\n",
              "  </tbody>\n",
              "</table>\n",
              "</div>\n",
              "    <div class=\"colab-df-buttons\">\n",
              "\n",
              "  <div class=\"colab-df-container\">\n",
              "    <button class=\"colab-df-convert\" onclick=\"convertToInteractive('df-a60937ea-1a42-4030-844a-ac95a3e5c4d0')\"\n",
              "            title=\"Convert this dataframe to an interactive table.\"\n",
              "            style=\"display:none;\">\n",
              "\n",
              "  <svg xmlns=\"http://www.w3.org/2000/svg\" height=\"24px\" viewBox=\"0 -960 960 960\">\n",
              "    <path d=\"M120-120v-720h720v720H120Zm60-500h600v-160H180v160Zm220 220h160v-160H400v160Zm0 220h160v-160H400v160ZM180-400h160v-160H180v160Zm440 0h160v-160H620v160ZM180-180h160v-160H180v160Zm440 0h160v-160H620v160Z\"/>\n",
              "  </svg>\n",
              "    </button>\n",
              "\n",
              "  <style>\n",
              "    .colab-df-container {\n",
              "      display:flex;\n",
              "      gap: 12px;\n",
              "    }\n",
              "\n",
              "    .colab-df-convert {\n",
              "      background-color: #E8F0FE;\n",
              "      border: none;\n",
              "      border-radius: 50%;\n",
              "      cursor: pointer;\n",
              "      display: none;\n",
              "      fill: #1967D2;\n",
              "      height: 32px;\n",
              "      padding: 0 0 0 0;\n",
              "      width: 32px;\n",
              "    }\n",
              "\n",
              "    .colab-df-convert:hover {\n",
              "      background-color: #E2EBFA;\n",
              "      box-shadow: 0px 1px 2px rgba(60, 64, 67, 0.3), 0px 1px 3px 1px rgba(60, 64, 67, 0.15);\n",
              "      fill: #174EA6;\n",
              "    }\n",
              "\n",
              "    .colab-df-buttons div {\n",
              "      margin-bottom: 4px;\n",
              "    }\n",
              "\n",
              "    [theme=dark] .colab-df-convert {\n",
              "      background-color: #3B4455;\n",
              "      fill: #D2E3FC;\n",
              "    }\n",
              "\n",
              "    [theme=dark] .colab-df-convert:hover {\n",
              "      background-color: #434B5C;\n",
              "      box-shadow: 0px 1px 3px 1px rgba(0, 0, 0, 0.15);\n",
              "      filter: drop-shadow(0px 1px 2px rgba(0, 0, 0, 0.3));\n",
              "      fill: #FFFFFF;\n",
              "    }\n",
              "  </style>\n",
              "\n",
              "    <script>\n",
              "      const buttonEl =\n",
              "        document.querySelector('#df-a60937ea-1a42-4030-844a-ac95a3e5c4d0 button.colab-df-convert');\n",
              "      buttonEl.style.display =\n",
              "        google.colab.kernel.accessAllowed ? 'block' : 'none';\n",
              "\n",
              "      async function convertToInteractive(key) {\n",
              "        const element = document.querySelector('#df-a60937ea-1a42-4030-844a-ac95a3e5c4d0');\n",
              "        const dataTable =\n",
              "          await google.colab.kernel.invokeFunction('convertToInteractive',\n",
              "                                                    [key], {});\n",
              "        if (!dataTable) return;\n",
              "\n",
              "        const docLinkHtml = 'Like what you see? Visit the ' +\n",
              "          '<a target=\"_blank\" href=https://colab.research.google.com/notebooks/data_table.ipynb>data table notebook</a>'\n",
              "          + ' to learn more about interactive tables.';\n",
              "        element.innerHTML = '';\n",
              "        dataTable['output_type'] = 'display_data';\n",
              "        await google.colab.output.renderOutput(dataTable, element);\n",
              "        const docLink = document.createElement('div');\n",
              "        docLink.innerHTML = docLinkHtml;\n",
              "        element.appendChild(docLink);\n",
              "      }\n",
              "    </script>\n",
              "  </div>\n",
              "\n",
              "\n",
              "<div id=\"df-6ba26226-94f4-4013-8974-87c7ed06915c\">\n",
              "  <button class=\"colab-df-quickchart\" onclick=\"quickchart('df-6ba26226-94f4-4013-8974-87c7ed06915c')\"\n",
              "            title=\"Suggest charts.\"\n",
              "            style=\"display:none;\">\n",
              "\n",
              "<svg xmlns=\"http://www.w3.org/2000/svg\" height=\"24px\"viewBox=\"0 0 24 24\"\n",
              "     width=\"24px\">\n",
              "    <g>\n",
              "        <path d=\"M19 3H5c-1.1 0-2 .9-2 2v14c0 1.1.9 2 2 2h14c1.1 0 2-.9 2-2V5c0-1.1-.9-2-2-2zM9 17H7v-7h2v7zm4 0h-2V7h2v10zm4 0h-2v-4h2v4z\"/>\n",
              "    </g>\n",
              "</svg>\n",
              "  </button>\n",
              "\n",
              "<style>\n",
              "  .colab-df-quickchart {\n",
              "      --bg-color: #E8F0FE;\n",
              "      --fill-color: #1967D2;\n",
              "      --hover-bg-color: #E2EBFA;\n",
              "      --hover-fill-color: #174EA6;\n",
              "      --disabled-fill-color: #AAA;\n",
              "      --disabled-bg-color: #DDD;\n",
              "  }\n",
              "\n",
              "  [theme=dark] .colab-df-quickchart {\n",
              "      --bg-color: #3B4455;\n",
              "      --fill-color: #D2E3FC;\n",
              "      --hover-bg-color: #434B5C;\n",
              "      --hover-fill-color: #FFFFFF;\n",
              "      --disabled-bg-color: #3B4455;\n",
              "      --disabled-fill-color: #666;\n",
              "  }\n",
              "\n",
              "  .colab-df-quickchart {\n",
              "    background-color: var(--bg-color);\n",
              "    border: none;\n",
              "    border-radius: 50%;\n",
              "    cursor: pointer;\n",
              "    display: none;\n",
              "    fill: var(--fill-color);\n",
              "    height: 32px;\n",
              "    padding: 0;\n",
              "    width: 32px;\n",
              "  }\n",
              "\n",
              "  .colab-df-quickchart:hover {\n",
              "    background-color: var(--hover-bg-color);\n",
              "    box-shadow: 0 1px 2px rgba(60, 64, 67, 0.3), 0 1px 3px 1px rgba(60, 64, 67, 0.15);\n",
              "    fill: var(--button-hover-fill-color);\n",
              "  }\n",
              "\n",
              "  .colab-df-quickchart-complete:disabled,\n",
              "  .colab-df-quickchart-complete:disabled:hover {\n",
              "    background-color: var(--disabled-bg-color);\n",
              "    fill: var(--disabled-fill-color);\n",
              "    box-shadow: none;\n",
              "  }\n",
              "\n",
              "  .colab-df-spinner {\n",
              "    border: 2px solid var(--fill-color);\n",
              "    border-color: transparent;\n",
              "    border-bottom-color: var(--fill-color);\n",
              "    animation:\n",
              "      spin 1s steps(1) infinite;\n",
              "  }\n",
              "\n",
              "  @keyframes spin {\n",
              "    0% {\n",
              "      border-color: transparent;\n",
              "      border-bottom-color: var(--fill-color);\n",
              "      border-left-color: var(--fill-color);\n",
              "    }\n",
              "    20% {\n",
              "      border-color: transparent;\n",
              "      border-left-color: var(--fill-color);\n",
              "      border-top-color: var(--fill-color);\n",
              "    }\n",
              "    30% {\n",
              "      border-color: transparent;\n",
              "      border-left-color: var(--fill-color);\n",
              "      border-top-color: var(--fill-color);\n",
              "      border-right-color: var(--fill-color);\n",
              "    }\n",
              "    40% {\n",
              "      border-color: transparent;\n",
              "      border-right-color: var(--fill-color);\n",
              "      border-top-color: var(--fill-color);\n",
              "    }\n",
              "    60% {\n",
              "      border-color: transparent;\n",
              "      border-right-color: var(--fill-color);\n",
              "    }\n",
              "    80% {\n",
              "      border-color: transparent;\n",
              "      border-right-color: var(--fill-color);\n",
              "      border-bottom-color: var(--fill-color);\n",
              "    }\n",
              "    90% {\n",
              "      border-color: transparent;\n",
              "      border-bottom-color: var(--fill-color);\n",
              "    }\n",
              "  }\n",
              "</style>\n",
              "\n",
              "  <script>\n",
              "    async function quickchart(key) {\n",
              "      const quickchartButtonEl =\n",
              "        document.querySelector('#' + key + ' button');\n",
              "      quickchartButtonEl.disabled = true;  // To prevent multiple clicks.\n",
              "      quickchartButtonEl.classList.add('colab-df-spinner');\n",
              "      try {\n",
              "        const charts = await google.colab.kernel.invokeFunction(\n",
              "            'suggestCharts', [key], {});\n",
              "      } catch (error) {\n",
              "        console.error('Error during call to suggestCharts:', error);\n",
              "      }\n",
              "      quickchartButtonEl.classList.remove('colab-df-spinner');\n",
              "      quickchartButtonEl.classList.add('colab-df-quickchart-complete');\n",
              "    }\n",
              "    (() => {\n",
              "      let quickchartButtonEl =\n",
              "        document.querySelector('#df-6ba26226-94f4-4013-8974-87c7ed06915c button');\n",
              "      quickchartButtonEl.style.display =\n",
              "        google.colab.kernel.accessAllowed ? 'block' : 'none';\n",
              "    })();\n",
              "  </script>\n",
              "</div>\n",
              "    </div>\n",
              "  </div>\n"
            ]
          },
          "metadata": {},
          "execution_count": 39
        }
      ],
      "source": [
        "df_dataset.head()"
      ]
    },
    {
      "cell_type": "code",
      "execution_count": 40,
      "metadata": {
        "id": "KxiJ9PLS-Ksm",
        "colab": {
          "base_uri": "https://localhost:8080/"
        },
        "outputId": "6fbf2b94-7ba0-4c73-9bc2-14dd782dec04"
      },
      "outputs": [
        {
          "output_type": "stream",
          "name": "stdout",
          "text": [
            "(100, 5)\n",
            "(50, 5)\n"
          ]
        }
      ],
      "source": [
        "treino = df_dataset[:100].values\n",
        "teste = df_dataset[100:].values\n",
        "\n",
        "print(treino.shape)\n",
        "print(teste.shape)"
      ]
    },
    {
      "cell_type": "markdown",
      "metadata": {
        "id": "ywkNBctU-Ksm"
      },
      "source": [
        "---\n",
        "\n",
        "Em seguida, vamos dar início à implementação do algoritmo KNN. O algoritmo funciona basicamente nas seguintes etapas:\n",
        "\n",
        "- Calcular a distância de uma amostra para todas as demais;\n",
        "- Pegar as n amostras mais próximas;\n",
        "- Computar qual a classe mais frequente."
      ]
    },
    {
      "cell_type": "markdown",
      "metadata": {
        "id": "-nXRYEHq-Ksm"
      },
      "source": [
        "### Calculando a distância"
      ]
    },
    {
      "cell_type": "markdown",
      "source": [
        "![image.png](data:image/png;base64,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)"
      ],
      "metadata": {
        "id": "GELYdYvb4wN-"
      }
    },
    {
      "cell_type": "code",
      "execution_count": 41,
      "metadata": {
        "id": "fbRMP15O-Ksm",
        "colab": {
          "base_uri": "https://localhost:8080/"
        },
        "outputId": "0529af75-43dd-4dee-91db-42e07416690b"
      },
      "outputs": [
        {
          "output_type": "stream",
          "name": "stdout",
          "text": [
            "[4.6 3.1 1.5 0.2]\n",
            "[6.1 2.8 4.7 1.2]\n",
            "[1.5 -0.30000000000000027 3.2 1.0]\n",
            "[2.25 0.09000000000000016 10.240000000000002 1.0]\n",
            "13.580000000000002\n",
            "Distância entre duas amostras quaisquer: 3.685105154537656\n"
          ]
        }
      ],
      "source": [
        "amostra_teste = teste[0,:4]\n",
        "amostra_treino = treino[0,:4]\n",
        "\n",
        "print(amostra_teste)\n",
        "print(amostra_treino)\n",
        "print(amostra_treino - amostra_teste)\n",
        "print((amostra_treino - amostra_teste) ** 2)\n",
        "print(np.sum((amostra_treino - amostra_teste) ** 2))\n",
        "\n",
        "distancia = np.sum((amostra_treino - amostra_teste) ** 2) ** 0.5\n",
        "print(\"Distância entre duas amostras quaisquer:\", distancia)"
      ]
    },
    {
      "cell_type": "markdown",
      "metadata": {
        "id": "SWGgCVkn-Ksn"
      },
      "source": [
        "Também é possível calcular a distância para todas as amostras de uma só vez."
      ]
    },
    {
      "cell_type": "code",
      "execution_count": 42,
      "metadata": {
        "id": "zkoyU22c-Ksn",
        "colab": {
          "base_uri": "https://localhost:8080/"
        },
        "outputId": "e70fae6d-bf03-44a3-e1c9-2c7ecfba8a23"
      },
      "outputs": [
        {
          "output_type": "stream",
          "name": "stdout",
          "text": [
            "Distâncias de uma amostra de teste para todas as amostras de treino:\n",
            "[3.685105154537656 1.3228756555322956 6.590144156238162 3.5623026261113755\n",
            " 4.154515615568198 0.8774964387392128 2.5806975801127883 4.760252094164762\n",
            " 3.749666651850535 2.891366458960192 4.451965857910413 0.26457513110645925\n",
            " 1.0049875621120892 0.3162277660168386 0.8660254037844384\n",
            " 3.889730067755345 5.109794516416487 2.816025568065745 3.3926390907374753\n",
            " 4.913247398615299 0.17320508075688812 4.047221268969612\n",
            " 0.5477225575051663 4.873397172404482 6.215303693304134 4.7455242070818695\n",
            " 5.081338406365 5.349766350038103 0.26457513110645925 0.22360679774997916\n",
            " 0.7071067811865476 1.714642819948225 3.776241517699842 0.3741657386773941\n",
            " 0.29999999999999954 4.288356328478313 3.733630940518894\n",
            " 0.7211102550927982 0.6480740698407862 1.1704699910719625\n",
            " 4.177319714841084 3.606937759374287 4.042276586281548 1.1661903789690604\n",
            " 1.0000000000000007 2.6038433132583076 4.198809355043403 4.669047011971501\n",
            " 3.722902093797257 5.784461945591827 3.1224989991991996 6.215303693304133\n",
            " 3.420526275297414 0.648074069840786 6.3229739838148955 2.9999999999999996\n",
            " 0.6782329983125273 0.6082762530298221 0.9695359714832655\n",
            " 2.451530134426253 4.1436698710201325 0.5385164807134504\n",
            " 0.42426406871192884 0.648074069840786 3.108054053584011 0.58309518948453\n",
            " 3.083828789021855 6.414047084329831 0.14142135623730964\n",
            " 3.4132096331752027 4.1303752856126765 1.424780684877501\n",
            " 3.9268307832143723 4.177319714841084 3.108054053584011 3.3674916480965473\n",
            " 4.719110085598767 2.98496231131986 1.1661903789690604 2.1633307652783933\n",
            " 4.553020975132885 0.4582575694955842 0.5099019513592788\n",
            " 2.7202941017470885 4.349712634186309 0.3162277660168386 4.396589587396122\n",
            " 0.5000000000000002 0.7000000000000001 3.892300091205713 1.915724406066802\n",
            " 5.229722745997153 4.127953488110059 4.55521678957215 5.932115979985556\n",
            " 2.9376861643136762 0.2999999999999997 0.519615242270663\n",
            " 4.0877866871939394 5.4387498563548595]\n"
          ]
        }
      ],
      "source": [
        "distancias = np.sum((amostra_teste - treino[:,:4]) ** 2, axis=1) ** 0.5\n",
        "print(\"Distâncias de uma amostra de teste para todas as amostras de treino:\")\n",
        "print(distancias)"
      ]
    },
    {
      "cell_type": "markdown",
      "metadata": {
        "id": "3QSKUPBh-Ksn"
      },
      "source": [
        "---\n",
        "\n",
        "Em seguida, escolhemos quantos vizinhos vamos considerar e escolhemos os mais próximos da amostra avaliada.\n",
        "A partir dos índices encontrados, calculamos qual é a classe mais frequente e atribuímos à amostra."
      ]
    },
    {
      "cell_type": "code",
      "execution_count": 43,
      "metadata": {
        "id": "o4XTXqTI-Kso",
        "colab": {
          "base_uri": "https://localhost:8080/"
        },
        "outputId": "34b28402-a4ac-4c1d-8083-c9db4ebfeeb7"
      },
      "outputs": [
        {
          "output_type": "stream",
          "name": "stdout",
          "text": [
            "Indices dos vizinhos mais próximos: [68 20 29 11 28]\n"
          ]
        }
      ],
      "source": [
        "k = 5\n",
        "indices = distancias.argsort()[:k]\n",
        "print(\"Indices dos vizinhos mais próximos:\", indices)"
      ]
    },
    {
      "cell_type": "code",
      "execution_count": 44,
      "metadata": {
        "id": "4yEe5IGf-Kso",
        "colab": {
          "base_uri": "https://localhost:8080/"
        },
        "outputId": "977ac05c-b7dd-4258-8ddc-ce9bafb8a720"
      },
      "outputs": [
        {
          "output_type": "stream",
          "name": "stdout",
          "text": [
            "Vizinhos mais próximos: ['Iris-setosa' 'Iris-setosa' 'Iris-setosa' 'Iris-setosa' 'Iris-setosa']\n",
            "[('Iris-setosa', 5)]\n",
            "Classe mais frequente e quantidade: Iris-setosa\n"
          ]
        }
      ],
      "source": [
        "from collections import Counter\n",
        "\n",
        "vizinhos = treino[indices,4]\n",
        "print(\"Vizinhos mais próximos:\", vizinhos)\n",
        "\n",
        "print(Counter(vizinhos).most_common(1))\n",
        "\n",
        "classe = Counter(vizinhos).most_common(1)[0][0]\n",
        "print(\"Classe mais frequente e quantidade:\", Counter(vizinhos).most_common(1)[0][0])"
      ]
    },
    {
      "cell_type": "markdown",
      "metadata": {
        "id": "85AW5DTx-Kso"
      },
      "source": [
        "---\n",
        "\n",
        "Para verificar se a classe encontrada pelo modelo está correta, basta comparar a saída com o rótulo da amostra."
      ]
    },
    {
      "cell_type": "code",
      "execution_count": 45,
      "metadata": {
        "id": "WhhiKw1V-Kso",
        "colab": {
          "base_uri": "https://localhost:8080/"
        },
        "outputId": "dc5f2c60-a1c3-4471-9e13-2390d295d2e4"
      },
      "outputs": [
        {
          "output_type": "stream",
          "name": "stdout",
          "text": [
            "Iris-setosa\n",
            "Correto\n"
          ]
        }
      ],
      "source": [
        "classe_certa = teste[0, 4]\n",
        "print(classe_certa)\n",
        "if classe_certa == classe:\n",
        "    print(\"Correto\")\n",
        "else:\n",
        "    print(\"Errado\")"
      ]
    },
    {
      "cell_type": "markdown",
      "metadata": {
        "id": "xgmyJ-fb-Ksp"
      },
      "source": [
        "---\n",
        "\n",
        "## Exercícios\n",
        "\n",
        "### Utilizando as funções do scikit-learn para separar dados e treinar automaticamente o KNN, implemente as duas variações do Edit-KNN (para reduzir a base de dados). Em seguida, avalie o tamanho da base e o resultado de acurácia:"
      ]
    },
    {
      "cell_type": "code",
      "execution_count": 46,
      "metadata": {
        "id": "0BYZ8xZG-Ksp"
      },
      "outputs": [],
      "source": [
        "# implemente seu código aqui"
      ]
    }
  ],
  "metadata": {
    "anaconda-cloud": {},
    "colab": {
      "provenance": []
    },
    "kernelspec": {
      "display_name": "Python 3 (ipykernel)",
      "language": "python",
      "name": "python3"
    },
    "language_info": {
      "codemirror_mode": {
        "name": "ipython",
        "version": 3
      },
      "file_extension": ".py",
      "mimetype": "text/x-python",
      "name": "python",
      "nbconvert_exporter": "python",
      "pygments_lexer": "ipython3",
      "version": "3.9.7"
    }
  },
  "nbformat": 4,
  "nbformat_minor": 0
}